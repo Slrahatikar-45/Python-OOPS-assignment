{
  "nbformat": 4,
  "nbformat_minor": 0,
  "metadata": {
    "colab": {
      "provenance": []
    },
    "kernelspec": {
      "name": "python3",
      "display_name": "Python 3"
    },
    "language_info": {
      "name": "python"
    }
  },
  "cells": [
    {
      "cell_type": "markdown",
      "source": [
        "Python OOPS assignment"
      ],
      "metadata": {
        "id": "gpztOwyZidfR"
      }
    },
    {
      "cell_type": "markdown",
      "source": [
        "1.What is Object-Oriented Programming (OOP)?\n",
        "- OOP is a programming paradigm based on the concept of objects, which contain data (attributes) and methods (functions). It helps in organizing code, improving reusability, and enabling modular programming.\n",
        "\n",
        "2.What is a class in OOP?\n",
        "- A class is a blueprint for creating objects. It defines attributes and methods that the created objects (instances) will have.\n",
        "\n",
        "3.What is an object in OOP?\n",
        "- An object is an instance of a class. It represents a real-world entity and has a state (attributes) and behavior (methods).\n",
        "\n",
        "4.What is the difference between abstraction and encapsulation?\n",
        "- 1.Abstraction hides complexity by showing only relevant details.\n",
        "2.Encapsulation hides internal data by wrapping it inside classes and restricting access using access modifiers (like _ or __).\n",
        "\n",
        "5.What are dunder methods in Python?\n",
        "- Dunder methods (double underscore), like __init__, __str__, __len__, are special methods used to customize object behavior in built-in operations.\n",
        "\n",
        "6.Explain the concept of inheritance in OOP.\n",
        "- Inheritance allows a class (child) to acquire properties and methods of another class (parent), promoting code reuse and logical hierarchy.\n",
        "\n",
        "7.What is polymorphism in OOP?\n",
        "- Polymorphism allows objects of different classes to be treated as objects of a common superclass. For example, method overriding and operator overloading demonstrate polymorphism.\n",
        "\n",
        "8.How is encapsulation achieved in Python?\n",
        "- Encapsulation in Python, an object-oriented programming concept, is achieved primarily through conventions and some language features, rather than strict access modifiers found in languages like Java. It involves bundling data (attributes) and the methods that operate on that data within a single unit, which is a class, and controlling access to these internal details.\n",
        "\n",
        "9.What is a constructor in Python?\n",
        "- In Python, a constructor is a special method used to initialize a newly created object of a class. When an object is instantiated, this method is automatically invoked to set up the initial state of the object.\n",
        "ex- __init__\n",
        "\n",
        "10.What are class and static methods in Python?\n",
        "- In Python, class and static methods are special types of methods within a class that differ in how they interact with the class and its instances.\n",
        "Class method: Uses @classmethod and accesses class-level data using cls.\n",
        "Static method: Uses @staticmethod, does not access instance or class data.\n",
        "\n",
        "11.What is method overloading in Python?\n",
        "- Method overloading refers to the ability to define multiple methods within the same class that share the same name but differ in their parameters (either by number or type).\n",
        "This allows a single method name to perform different actions based on the arguments provided when it is called.\n",
        "\n",
        "12.What is method overriding in OOP?\n",
        "- Method overriding is when a child class provides a specific implementation of a method already defined in its parent class.\n",
        "\n",
        "13.What is a property decorator in Python?\n",
        "- A property decorator in Python, denoted by @property, is a built-in decorator that allows you to define methods within a class that can be accessed like attributes.\n",
        "\n",
        "14.Why is polymorphism important in OOP?\n",
        "- Polymorphism in object-oriented programming is crucial because it allows for increased flexibility, code reusability, and maintainability.\n",
        "It enables a single interface to represent different underlying forms or implementations, making the code more adaptable and easier to extend.\n",
        "\n",
        "15.What is an abstract class in Python?\n",
        "- An abstract class is a class that contains abstract methods (methods without implementation) and cannot be instantiated. Defined using ABC module and @abstractmethod.\n",
        "\n",
        "16.What are the advantages of OOP?\n",
        "- Advantages of OOP are as follows\n",
        "Modularity\n",
        "Reusability\n",
        "Scalability\n",
        "Maintainability\n",
        "Real-world modeling\n",
        "\n",
        "17.What is the difference between a class variable and an instance variable?\n",
        "- Class Variable:\n",
        "Defined at the class level, accessible by all instances of the class.\n",
        "Only one copy of the class variable exists for the entire class, and it's shared among all objects.\n",
        "Can be accessed using the class name or an object of the class.\n",
        "\n",
        "Instance Variable:\n",
        "Defined within a class, but associated with a specific instance (object).\n",
        "Each instance of the class has its own independent copy of the instance variable.\n",
        "Can only be accessed through an object of the class.\n",
        "\n",
        "18.What is multiple inheritance in Python?\n",
        "- Multiple inheritance in Python is a feature where a class can inherit attributes and methods from more than one parent class. This means a single child class can be derived from two or more base classes, gaining access to the functionalities defined in all of them.\n",
        "\n",
        "19.Explain the purpose of ‘’__str__’ and ‘__repr__’ ‘ methods in Python.\n",
        "- In Python, __str__ and __repr__ are special methods (also known as \"dunder methods\" for their double underscores) that define how an object is represented as a string.\n",
        "\n",
        "20.What is the significance of the ‘super()’ function in Python.\n",
        "- The super() function in Python holds significant importance in the context of object-oriented programming and inheritance. Its primary role is to provide a mechanism for a subclass to access methods and attributes of its parent (or super) class.\n",
        "\n",
        "21.What is the significance of the __del__ method in Python?\n",
        "- The __del__ method in Python, also known as the destructor, holds significance in object-oriented programming primarily for resource cleanup when an object is about to be garbage collected.\n",
        "\n",
        "22.What is the difference between @staticmethod and @classmethod in Python?\n",
        "- @classmethod-\n",
        "Takes the class itself (cls) as its first argument.\n",
        "Can access and modify class-level attributes and call other class methods.\n",
        "Often used for \"factory methods\" that create instances of the class with specific configurations, or for methods that operate on class-level data.\n",
        "\n",
        "@staticmethod-\n",
        "Does not take any specific first argument (neither self nor cls).\n",
        "Cannot access or modify instance-specific or class-specific data directly.\n",
        "Functions like a regular function placed within the class namespace for logical grouping.\n",
        "Ideal for utility functions that are related to the class but do not depend on its state or instance state.\n",
        "\n",
        "23.How does polymorphism work in Python with inheritance\n",
        "- Polymorphism in Python, when combined with inheritance, primarily functions through method overriding. This allows objects of different classes, all derived from a common base class, to respond to the same method call in a way specific to their own class.\n",
        "\n",
        "24.What is method chaining in Python OOP?\n",
        "- Method chaining is a technique in Python (and many other languages) where multiple methods are called sequentially on the same object in a single line of code.\n",
        "Each method in the chain returns the object itself (self), allowing the next method to be called on the same object.\n",
        "\n",
        "25.What is the purpose of the __call__ method in Python?\n",
        "- The __call__ method in Python serves the purpose of making instances of a class callable, meaning they can be treated and invoked like functions.\n",
        "When a class defines a __call__ method, any object created from that class can be directly called using parentheses, similar to how a function is called."
      ],
      "metadata": {
        "id": "sKDnhT38Vy-w"
      }
    },
    {
      "cell_type": "code",
      "execution_count": 3,
      "metadata": {
        "colab": {
          "base_uri": "https://localhost:8080/"
        },
        "id": "U6KXisRnR8Pd",
        "outputId": "56bfeffa-5a12-40b4-e16a-b545f5bf86ff"
      },
      "outputs": [
        {
          "output_type": "stream",
          "name": "stdout",
          "text": [
            "Bark!\n"
          ]
        }
      ],
      "source": [
        "#1.Create a parent class Animal with a method speak() that prints a generic message. Create a child class Dog that overrides the speak() method to print \"Bark!\".\n",
        "class Animal:\n",
        "    def speak(self):\n",
        "        print(\"Animal speaks\")\n",
        "\n",
        "class Dog(Animal):\n",
        "    def speak(self):\n",
        "        print(\"Bark!\")\n",
        "\n",
        "dog = Dog()\n",
        "dog.speak()"
      ]
    },
    {
      "cell_type": "code",
      "source": [
        "#2. Write a program to create an abstract class Shape with a method area(). Derive classes Circle and Rectangle from it and implement the area() method in both.\n",
        "from abc import ABC, abstractmethod\n",
        "\n",
        "class Shape(ABC):\n",
        "    @abstractmethod\n",
        "    def area(self):\n",
        "        pass\n",
        "\n",
        "class Circle(Shape):\n",
        "    def area(self):\n",
        "        return 3.14 * 5 * 5\n",
        "\n",
        "class Rectangle(Shape):\n",
        "    def area(self):\n",
        "        return 10 * 5\n",
        "\n",
        "circle = Circle()\n",
        "rectangle = Rectangle()\n",
        "print(circle.area())\n",
        "print(rectangle.area())"
      ],
      "metadata": {
        "colab": {
          "base_uri": "https://localhost:8080/"
        },
        "id": "r32tZu6qd8UD",
        "outputId": "606c36c9-fa38-4c92-dd2e-2cd0298c8cab"
      },
      "execution_count": 2,
      "outputs": [
        {
          "output_type": "stream",
          "name": "stdout",
          "text": [
            "78.5\n",
            "50\n"
          ]
        }
      ]
    },
    {
      "cell_type": "code",
      "source": [
        "#3. Implement a multi-level inheritance scenario where a class Vehicle has an attribute type. Derive a class Car and further derive a class ElectricCar that adds a battery attribute\n",
        "class Vehicle:\n",
        "    def __init__(self, type):\n",
        "        self.type = type\n",
        "\n",
        "class Car(Vehicle):\n",
        "    def __init__(self, type, model):\n",
        "        super().__init__(type)\n",
        "        self.model = model\n",
        "\n",
        "class ElectricCar(Car):\n",
        "    def __init__(self, type, model, battery):\n",
        "        super().__init__(type, model)\n",
        "        self.battery = battery\n",
        "\n",
        "ecar = ElectricCar(\"Electric\", \"Tesla\", \"100kWh\")\n",
        "print(ecar.type, ecar.model, ecar.battery)"
      ],
      "metadata": {
        "colab": {
          "base_uri": "https://localhost:8080/"
        },
        "id": "5KKhttLheBDw",
        "outputId": "48a593c5-6f7c-4f63-9730-ab67017ebd42"
      },
      "execution_count": 4,
      "outputs": [
        {
          "output_type": "stream",
          "name": "stdout",
          "text": [
            "Electric Tesla 100kWh\n"
          ]
        }
      ]
    },
    {
      "cell_type": "code",
      "source": [
        "#4. Demonstrate polymorphism by creating a base class Bird with a method fly(). Create two derived classes Sparrow and Penguin that override the fly() method.\n",
        "class Bird:\n",
        "    def fly(self):\n",
        "        print(\"Some birds fly\")\n",
        "\n",
        "class Sparrow(Bird):\n",
        "    def fly(self):\n",
        "        print(\"Sparrow flies high\")\n",
        "\n",
        "class Penguin(Bird):\n",
        "    def fly(self):\n",
        "        print(\"Penguins can't fly\")\n",
        "\n",
        "birds = [Sparrow(), Penguin()]\n",
        "for bird in birds:\n",
        "    bird.fly()"
      ],
      "metadata": {
        "colab": {
          "base_uri": "https://localhost:8080/"
        },
        "id": "9QYZP2U-eH4N",
        "outputId": "7278308b-aa3c-4221-dc44-cdf829ffb9a2"
      },
      "execution_count": 5,
      "outputs": [
        {
          "output_type": "stream",
          "name": "stdout",
          "text": [
            "Sparrow flies high\n",
            "Penguins can't fly\n"
          ]
        }
      ]
    },
    {
      "cell_type": "code",
      "source": [
        "#5. Write a program to demonstrate encapsulation by creating a class BankAccount with private attributes balance and methods to deposit, withdraw, and check balance\n",
        "class BankAccount:\n",
        "    def __init__(self, balance):\n",
        "        self.__balance = balance\n",
        "\n",
        "    def deposit(self, amount):\n",
        "        self.__balance += amount\n",
        "\n",
        "    def withdraw(self, amount):\n",
        "        if amount <= self.__balance:\n",
        "            self.__balance -= amount\n",
        "\n",
        "    def check_balance(self):\n",
        "        return self.__balance\n",
        "\n",
        "acc = BankAccount(1000)\n",
        "acc.deposit(500)\n",
        "acc.withdraw(300)\n",
        "print(acc.check_balance())"
      ],
      "metadata": {
        "colab": {
          "base_uri": "https://localhost:8080/"
        },
        "id": "D88AIV_yeLxY",
        "outputId": "495410ac-61f4-47b7-83d3-28b807a20f39"
      },
      "execution_count": 6,
      "outputs": [
        {
          "output_type": "stream",
          "name": "stdout",
          "text": [
            "1200\n"
          ]
        }
      ]
    },
    {
      "cell_type": "code",
      "source": [
        "#6. Demonstrate runtime polymorphism using a method play() in a base class Instrument. Derive classes Guitar and Piano that implement their own version of play()\n",
        "class Instrument:\n",
        "    def play(self):\n",
        "        print(\"Instrument is playing\")\n",
        "\n",
        "class Guitar(Instrument):\n",
        "    def play(self):\n",
        "        print(\"Guitar strumming\")\n",
        "\n",
        "class Piano(Instrument):\n",
        "    def play(self):\n",
        "        print(\"Piano playing\")\n",
        "\n",
        "instruments = [Guitar(), Piano()]\n",
        "for i in instruments:\n",
        "    i.play()"
      ],
      "metadata": {
        "colab": {
          "base_uri": "https://localhost:8080/"
        },
        "id": "5XvDV6nTePyr",
        "outputId": "f4819c55-8a63-4ca2-e9cc-ea1eb8f11896"
      },
      "execution_count": 7,
      "outputs": [
        {
          "output_type": "stream",
          "name": "stdout",
          "text": [
            "Guitar strumming\n",
            "Piano playing\n"
          ]
        }
      ]
    },
    {
      "cell_type": "code",
      "source": [
        "#7.Create a class MathOperations with a class method add_numbers() to add two numbers and a static method subtract_numbers() to subtract two numbers\n",
        "class MathOperations:\n",
        "    @classmethod\n",
        "    def add_numbers(cls, a, b):\n",
        "        return a + b\n",
        "\n",
        "    @staticmethod\n",
        "    def subtract_numbers(a, b):\n",
        "        return a - b\n",
        "\n",
        "print(MathOperations.add_numbers(5, 3))\n",
        "print(MathOperations.subtract_numbers(10, 4))"
      ],
      "metadata": {
        "colab": {
          "base_uri": "https://localhost:8080/"
        },
        "id": "50fdLDp0eT1_",
        "outputId": "30ba2622-1911-4b21-d35c-17e4f916204a"
      },
      "execution_count": 8,
      "outputs": [
        {
          "output_type": "stream",
          "name": "stdout",
          "text": [
            "8\n",
            "6\n"
          ]
        }
      ]
    },
    {
      "cell_type": "code",
      "source": [
        "#8. Implement a class Person with a class method to count the total number of persons created.\n",
        "class Person:\n",
        "    count = 0\n",
        "\n",
        "    def __init__(self):\n",
        "        Person.count += 1\n",
        "\n",
        "    @classmethod\n",
        "    def total_persons(cls):\n",
        "        return cls.count\n",
        "\n",
        "p1 = Person()\n",
        "p2 = Person()\n",
        "print(Person.total_persons())"
      ],
      "metadata": {
        "colab": {
          "base_uri": "https://localhost:8080/"
        },
        "id": "MC0JaHgWeYNY",
        "outputId": "32ec9fd0-f4bf-49c8-d2db-d69a1d6bb19f"
      },
      "execution_count": 9,
      "outputs": [
        {
          "output_type": "stream",
          "name": "stdout",
          "text": [
            "2\n"
          ]
        }
      ]
    },
    {
      "cell_type": "code",
      "source": [
        "#9. Write a class Fraction with attributes numerator and denominator. Override the str method to display the fraction as \"numerator/denominator\".\n",
        "class Fraction:\n",
        "    def __init__(self, numerator, denominator):\n",
        "        self.numerator = numerator\n",
        "        self.denominator = denominator\n",
        "\n",
        "    def __str__(self):\n",
        "        return f\"{self.numerator}/{self.denominator}\"\n",
        "\n",
        "frac = Fraction(3, 4)\n",
        "print(frac)"
      ],
      "metadata": {
        "colab": {
          "base_uri": "https://localhost:8080/"
        },
        "id": "ywuZ_ciNed9S",
        "outputId": "9bced365-387c-4f1f-d69b-bb96ccc3e2fa"
      },
      "execution_count": 10,
      "outputs": [
        {
          "output_type": "stream",
          "name": "stdout",
          "text": [
            "3/4\n"
          ]
        }
      ]
    },
    {
      "cell_type": "code",
      "source": [
        "#10. Demonstrate operator overloading by creating a class Vector and overriding the add method to add two vectors\n",
        "class Vector:\n",
        "    def __init__(self, x, y):\n",
        "        self.x = x\n",
        "        self.y = y\n",
        "\n",
        "    def __add__(self, other):\n",
        "        return Vector(self.x + other.x, self.y + other.y)\n",
        "\n",
        "    def __str__(self):\n",
        "        return f\"({self.x}, {self.y})\"\n",
        "\n",
        "v1 = Vector(1, 2)\n",
        "v2 = Vector(3, 4)\n",
        "print(v1 + v2)"
      ],
      "metadata": {
        "colab": {
          "base_uri": "https://localhost:8080/"
        },
        "id": "80k9BrZQejF8",
        "outputId": "690eb89b-a8dc-49ac-ae87-b0808f0d7315"
      },
      "execution_count": 11,
      "outputs": [
        {
          "output_type": "stream",
          "name": "stdout",
          "text": [
            "(4, 6)\n"
          ]
        }
      ]
    },
    {
      "cell_type": "code",
      "source": [
        "#11. Create a class Person with attributes name and age. Add a method greet() that prints \"Hello, my name is {name} and I am {age} years old.\"\n",
        "class Person:\n",
        "    def __init__(self, name, age):\n",
        "        self.name = name\n",
        "        self.age = age\n",
        "\n",
        "    def greet(self):\n",
        "        print(f\"Hello, my name is {self.name} and I am {self.age} years old.\")\n",
        "\n",
        "p1 = Person(\"Roman\", 25)\n",
        "p1.greet()"
      ],
      "metadata": {
        "colab": {
          "base_uri": "https://localhost:8080/"
        },
        "id": "-9ZJP_PpetJN",
        "outputId": "87217e64-08c4-4907-bfe3-8cd3b778a2dd"
      },
      "execution_count": 12,
      "outputs": [
        {
          "output_type": "stream",
          "name": "stdout",
          "text": [
            "Hello, my name is Roman and I am 25 years old.\n"
          ]
        }
      ]
    },
    {
      "cell_type": "code",
      "source": [
        "#12. Implement a class Student with attributes name and grades. Create a method average_grade() to compute the average of the grades\n",
        "class Student:\n",
        "    def __init__(self, name, grades):\n",
        "        self.name = name\n",
        "        self.grades = grades  # List of numbers\n",
        "\n",
        "    def average_grade(self):\n",
        "        return sum(self.grades) / len(self.grades)\n",
        "\n",
        "s1 = Student(\"Ayesha\", [85, 90, 95])\n",
        "print(f\"Average grade of {s1.name} is {s1.average_grade()}\")"
      ],
      "metadata": {
        "colab": {
          "base_uri": "https://localhost:8080/"
        },
        "id": "Ryhmz0Moewvh",
        "outputId": "5af53ba3-361d-4b60-d07f-15f8b0319952"
      },
      "execution_count": 13,
      "outputs": [
        {
          "output_type": "stream",
          "name": "stdout",
          "text": [
            "Average grade of Ayesha is 90.0\n"
          ]
        }
      ]
    },
    {
      "cell_type": "code",
      "source": [
        "#13. Create a class Rectangle with methods set_dimensions() to set the dimensions and area() to calculate the area\n",
        "class Rectangle:\n",
        "    def set_dimensions(self, length, width):\n",
        "        self.length = length\n",
        "        self.width = width\n",
        "\n",
        "    def area(self):\n",
        "        return self.length * self.width\n",
        "\n",
        "rect = Rectangle()\n",
        "rect.set_dimensions(5, 4)\n",
        "print(\"Area of rectangle:\", rect.area())"
      ],
      "metadata": {
        "colab": {
          "base_uri": "https://localhost:8080/"
        },
        "id": "xi16eCkSe1mp",
        "outputId": "79a180de-1881-4986-c421-b7baebaf00df"
      },
      "execution_count": 14,
      "outputs": [
        {
          "output_type": "stream",
          "name": "stdout",
          "text": [
            "Area of rectangle: 20\n"
          ]
        }
      ]
    },
    {
      "cell_type": "code",
      "source": [
        "#14. Create a class Employee with a method calculate_salary() that computes the salary based on hours worked and hourly rate. Create a derived class Manager that adds a bonus to the salary.\n",
        "class Employee:\n",
        "    def __init__(self, hours_worked, hourly_rate):\n",
        "        self.hours_worked = hours_worked\n",
        "        self.hourly_rate = hourly_rate\n",
        "\n",
        "    def calculate_salary(self):\n",
        "        return self.hours_worked * self.hourly_rate\n",
        "\n",
        "class Manager(Employee):\n",
        "    def __init__(self, hours_worked, hourly_rate, bonus):\n",
        "        super().__init__(hours_worked, hourly_rate)\n",
        "        self.bonus = bonus\n",
        "\n",
        "    def calculate_salary(self):\n",
        "        base_salary = super().calculate_salary()\n",
        "        return base_salary + self.bonus\n",
        "\n",
        "emp = Employee(40, 50)\n",
        "mgr = Manager(40, 50, 2000)\n",
        "print(\"Employee salary:\", emp.calculate_salary())\n",
        "print(\"Manager salary:\", mgr.calculate_salary())"
      ],
      "metadata": {
        "colab": {
          "base_uri": "https://localhost:8080/"
        },
        "id": "1ypGJuBBe5lF",
        "outputId": "2e42fdb0-eb3b-40a5-ec59-d1c1ba05020d"
      },
      "execution_count": 15,
      "outputs": [
        {
          "output_type": "stream",
          "name": "stdout",
          "text": [
            "Employee salary: 2000\n",
            "Manager salary: 4000\n"
          ]
        }
      ]
    },
    {
      "cell_type": "code",
      "source": [
        "#15. Create a class Product with attributes name, price, and quantity. Implement a method total_price() that calculates the total price\n",
        "class Product:\n",
        "    def __init__(self, name, price, quantity):\n",
        "        self.name = name\n",
        "        self.price = price\n",
        "        self.quantity = quantity\n",
        "\n",
        "    def total_price(self):\n",
        "        return self.price * self.quantity\n",
        "\n",
        "p = Product(\"Laptop\", 50000, 2)\n",
        "print(\"Total Price:\", p.total_price())"
      ],
      "metadata": {
        "colab": {
          "base_uri": "https://localhost:8080/"
        },
        "id": "BS6q4nkJe89I",
        "outputId": "3c901dd7-b87d-458e-8d16-6136c9742551"
      },
      "execution_count": 16,
      "outputs": [
        {
          "output_type": "stream",
          "name": "stdout",
          "text": [
            "Total Price: 100000\n"
          ]
        }
      ]
    },
    {
      "cell_type": "code",
      "source": [
        "#16. Create a class Animal with an abstract method sound(). Create two derived classes Cow and Sheep that implement the sound() method\n",
        "from abc import ABC, abstractmethod\n",
        "\n",
        "class Animal(ABC):\n",
        "    @abstractmethod\n",
        "    def sound(self):\n",
        "        pass\n",
        "\n",
        "class Cow(Animal):\n",
        "    def sound(self):\n",
        "        return \"Moo\"\n",
        "\n",
        "class Sheep(Animal):\n",
        "    def sound(self):\n",
        "        return \"Baa\"\n",
        "\n",
        "cow = Cow()\n",
        "sheep = Sheep()\n",
        "print(\"Cow sound:\", cow.sound())\n",
        "print(\"Sheep sound:\", sheep.sound())"
      ],
      "metadata": {
        "colab": {
          "base_uri": "https://localhost:8080/"
        },
        "id": "bWVTpTJjfCiO",
        "outputId": "25fd1c1a-dbe6-4fcf-f48c-1742c8e7ecbe"
      },
      "execution_count": 17,
      "outputs": [
        {
          "output_type": "stream",
          "name": "stdout",
          "text": [
            "Cow sound: Moo\n",
            "Sheep sound: Baa\n"
          ]
        }
      ]
    },
    {
      "cell_type": "code",
      "source": [
        "#17. Create a class Book with attributes title, author, and year_published. Add a method get_book_info() that returns a formatted string with the book's details.\n",
        "class Book:\n",
        "    def __init__(self, title, author, year_published):\n",
        "        self.title = title\n",
        "        self.author = author\n",
        "        self.year_published = year_published\n",
        "\n",
        "    def get_book_info(self):\n",
        "        return f\"'{self.title}' by {self.author}, published in {self.year_published}.\"\n",
        "\n",
        "b = Book(\"The Alchemist\", \"Paulo Coelho\", 1988)\n",
        "print(b.get_book_info())"
      ],
      "metadata": {
        "colab": {
          "base_uri": "https://localhost:8080/"
        },
        "id": "zMVRiQZDfGq5",
        "outputId": "c00a9b01-e548-482e-f8f9-96be2da9684f"
      },
      "execution_count": 18,
      "outputs": [
        {
          "output_type": "stream",
          "name": "stdout",
          "text": [
            "'The Alchemist' by Paulo Coelho, published in 1988.\n"
          ]
        }
      ]
    },
    {
      "cell_type": "code",
      "source": [
        "#18. Create a class House with attributes address and price. Create a derived class Mansion that adds an attribute number_of_rooms.\n",
        "class House:\n",
        "    def __init__(self, address, price):\n",
        "        self.address = address\n",
        "        self.price = price\n",
        "\n",
        "class Mansion(House):\n",
        "    def __init__(self, address, price, number_of_rooms):\n",
        "        super().__init__(address, price)\n",
        "        self.number_of_rooms = number_of_rooms\n",
        "\n",
        "m = Mansion(\"123 Elite St\", 50000000, 12)\n",
        "print(f\"Address: {m.address}, Price: ₹{m.price}, Rooms: {m.number_of_rooms}\")"
      ],
      "metadata": {
        "colab": {
          "base_uri": "https://localhost:8080/"
        },
        "id": "yHyS61KzfKQ-",
        "outputId": "8e0d0120-7f35-4c58-8436-222833328aac"
      },
      "execution_count": 19,
      "outputs": [
        {
          "output_type": "stream",
          "name": "stdout",
          "text": [
            "Address: 123 Elite St, Price: ₹50000000, Rooms: 12\n"
          ]
        }
      ]
    }
  ]
}